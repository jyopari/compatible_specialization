{
 "cells": [
  {
   "cell_type": "code",
   "execution_count": 2,
   "metadata": {},
   "outputs": [
    {
     "name": "stdout",
     "output_type": "stream",
     "text": [
      "Please install the pymp library using `pip install pymp` to speed up non-batched metrics\n"
     ]
    }
   ],
   "source": [
    "import torch\n",
    "from metrics import AlignmentMetrics"
   ]
  },
  {
   "cell_type": "code",
   "execution_count": 24,
   "metadata": {},
   "outputs": [],
   "source": [
    "#path = '../representation_analysis_final/tinycodes-orca-step-representations.pt'\n",
    "#path = '../representation_analysis_final/tinycodes-orca-openwebtext-step-representations.pt'\n",
    "#path = '../representation_analysis_final/tinycodes-orca-gsm-hard-step-representation-first-100.pt'\n",
    "#path = '../representation_analysis_final/tinycodes-orca-gsm-hard-step-representation-layer-6.pt'\n",
    "\n",
    "#path = '../representation_analysis_final/tinycodes-orca-openwebtext-step-representation-layer-6.pt'\n",
    "path = '../representation_analysis_final/tinycodes-orca-openwebtext-step-representation-layer-6-100.pt'\n",
    "\n",
    "data = torch.load(path)"
   ]
  },
  {
   "cell_type": "code",
   "execution_count": 25,
   "metadata": {},
   "outputs": [],
   "source": [
    "base_paths = ['/data/scratch-oc40/pulkitag/jyop/gpt-merge-out/gpt2-tinycodes-gpt2-0.0008-1-tinycodes_560000_step-',\n",
    "              '/data/scratch-oc40/pulkitag/jyop/gpt-merge-out/gpt2-orca-math-gpt2-0.0008-1-orca-math-problems_560000_step-']\n",
    "\n",
    "# step_size = 500\n",
    "# max_step = 8500\n",
    "\n",
    "step_size = 10\n",
    "max_step = 100"
   ]
  },
  {
   "cell_type": "code",
   "execution_count": 26,
   "metadata": {},
   "outputs": [
    {
     "name": "stdout",
     "output_type": "stream",
     "text": [
      "1.0\n",
      "0.9788058400154114\n",
      "0.9788371324539185\n",
      "0.9780021905899048\n",
      "0.9766711592674255\n",
      "0.9803359508514404\n",
      "0.9767592549324036\n",
      "0.9717799425125122\n",
      "0.9657205939292908\n",
      "0.9752824306488037\n",
      "0.9713631868362427\n"
     ]
    }
   ],
   "source": [
    "for step in range(0, max_step+1, step_size):\n",
    "    representation_1 = data[base_paths[0] + str(step) + '_finetuned.pt']\n",
    "    representation_2 = data[base_paths[1] + str(step) + '_finetuned.pt']\n",
    "    print(AlignmentMetrics.cka(representation_1, representation_2))"
   ]
  },
  {
   "cell_type": "code",
   "execution_count": null,
   "metadata": {},
   "outputs": [],
   "source": []
  },
  {
   "cell_type": "code",
   "execution_count": null,
   "metadata": {},
   "outputs": [],
   "source": []
  }
 ],
 "metadata": {
  "kernelspec": {
   "display_name": "gpu_env",
   "language": "python",
   "name": "python3"
  },
  "language_info": {
   "codemirror_mode": {
    "name": "ipython",
    "version": 3
   },
   "file_extension": ".py",
   "mimetype": "text/x-python",
   "name": "python",
   "nbconvert_exporter": "python",
   "pygments_lexer": "ipython3",
   "version": "3.11.5"
  }
 },
 "nbformat": 4,
 "nbformat_minor": 2
}
